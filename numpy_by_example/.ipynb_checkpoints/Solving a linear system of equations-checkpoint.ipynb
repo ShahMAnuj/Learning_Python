{
 "cells": [
  {
   "cell_type": "code",
   "execution_count": 1,
   "metadata": {},
   "outputs": [],
   "source": [
    "import numpy as np"
   ]
  },
  {
   "cell_type": "markdown",
   "metadata": {},
   "source": [
    "We will create matrix A row-by-row. "
   ]
  },
  {
   "cell_type": "code",
   "execution_count": 8,
   "metadata": {},
   "outputs": [
    {
     "data": {
      "text/plain": [
       "array([[-2,  5,  1,  3,  4, -1],\n",
       "       [ 2, -1, -5, -2,  6,  4],\n",
       "       [-1,  6, -4, -5,  3, -1],\n",
       "       [ 4,  3, -6, -5, -2, -2],\n",
       "       [-3,  6,  4,  2, -6,  4],\n",
       "       [ 2,  4,  4,  4,  5, -4]])"
      ]
     },
     "execution_count": 8,
     "metadata": {},
     "output_type": "execute_result"
    }
   ],
   "source": [
    "A = np.array([\n",
    "    [-2,5,1,3,4,-1],\n",
    "    [2,-1,-5,-2,6,4],\n",
    "    [-1,6,-4,-5,3,-1],\n",
    "    [4,3,-6,-5,-2,-2],\n",
    "    [-3,6,4,2,-6,4],\n",
    "    [2,4,4,4,5,-4]\n",
    "])\n",
    "A"
   ]
  },
  {
   "cell_type": "markdown",
   "metadata": {},
   "source": [
    "Next, we will create B, again row-by-row:"
   ]
  },
  {
   "cell_type": "code",
   "execution_count": 9,
   "metadata": {},
   "outputs": [
    {
     "data": {
      "text/plain": [
       "array([[ 0],\n",
       "       [ 1],\n",
       "       [-6],\n",
       "       [10],\n",
       "       [-6],\n",
       "       [-2]])"
      ]
     },
     "execution_count": 9,
     "metadata": {},
     "output_type": "execute_result"
    }
   ],
   "source": [
    "B = np.array([\n",
    "    [0],\n",
    "    [1],\n",
    "    [-6],\n",
    "    [10],\n",
    "    [-6],\n",
    "    [-2]\n",
    "])\n",
    "B"
   ]
  },
  {
   "cell_type": "markdown",
   "metadata": {},
   "source": [
    "Finally, we will use Numpy's linalg.solve() method to find our solution."
   ]
  },
  {
   "cell_type": "code",
   "execution_count": null,
   "metadata": {},
   "outputs": [],
   "source": [
    "x = np.linalg.solve(A,B)\n",
    "\n",
    "print(x)"
   ]
  }
 ],
 "metadata": {
  "kernelspec": {
   "display_name": "Python 3",
   "language": "python",
   "name": "python3"
  },
  "language_info": {
   "codemirror_mode": {
    "name": "ipython",
    "version": 3
   },
   "file_extension": ".py",
   "mimetype": "text/x-python",
   "name": "python",
   "nbconvert_exporter": "python",
   "pygments_lexer": "ipython3",
   "version": "3.8.7"
  }
 },
 "nbformat": 4,
 "nbformat_minor": 4
}
