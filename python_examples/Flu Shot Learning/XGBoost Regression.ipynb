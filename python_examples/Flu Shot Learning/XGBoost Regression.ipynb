{
 "cells": [
  {
   "cell_type": "markdown",
   "metadata": {},
   "source": [
    "## Pre-Processing Functions ##"
   ]
  },
  {
   "cell_type": "code",
   "execution_count": 1,
   "metadata": {},
   "outputs": [],
   "source": [
    "def data_cleaning(df):\n",
    "    #deletes columns with more than 40% null values\n",
    "    #uses the most frequent imputation strategy for numeric and\n",
    "    #string data\n",
    "    i = 0\n",
    "    while (i<len(df.columns)):\n",
    "        current_col = df.iloc[:, i]\n",
    "        if ((current_col.isnull().sum()/26708) > 0.4): \n",
    "            df.drop(df.columns[[i]], axis=1, inplace=True)\n",
    "        if (current_col.dtypes == 'float64'):\n",
    "            mode = current_col.mode()[0]\n",
    "            current_col.fillna(mode, inplace=True)\n",
    "        if (current_col.dtypes == 'object'):\n",
    "            mode = current_col.mode()[0]\n",
    "            current_col.fillna(mode, inplace=True)\n",
    "        i = i + 1\n",
    "    return df"
   ]
  },
  {
   "cell_type": "code",
   "execution_count": 2,
   "metadata": {},
   "outputs": [],
   "source": [
    "def label_encoding(df):\n",
    "        age_map = {\n",
    "        '18 - 34 Years':1,\n",
    "        '35 - 44 Years':2,\n",
    "        '45 - 54 Years':3,\n",
    "        '55 - 64 Years':4,\n",
    "        '65+ Years':5\n",
    "        }\n",
    "\n",
    "        education_map = {\n",
    "            '< 12 Years':1,\n",
    "            '12 Years':2,\n",
    "            'Some College':3,\n",
    "            'College Graduate':4\n",
    "        }\n",
    "\n",
    "        income_map = {\n",
    "            'Below Poverty':1,\n",
    "            '<= $75,000, Above Poverty':2,\n",
    "            '> $75,000':3\n",
    "        }\n",
    "\n",
    "        df['age_group_numerical'] = df.age_group.map(age_map)\n",
    "        df['education_numerical'] = df.education.map(education_map)\n",
    "        df['income_poverty_numerical'] = df.income_poverty.map(income_map)\n",
    "        return df.drop(columns=['age_group','education','income_poverty'])"
   ]
  },
  {
   "cell_type": "code",
   "execution_count": 3,
   "metadata": {},
   "outputs": [],
   "source": [
    "#This function takes in a dataframe (df),\n",
    "#then calls the label_encoding function on it,\n",
    "#then calls the get_dummies function on it,\n",
    "#and returns an updated dataframe (df2).\n",
    "def data_preprocessing(df):\n",
    "    df2 = pd.get_dummies(label_encoding(df), prefix_sep='_', drop_first=True)\n",
    "    return df2"
   ]
  },
  {
   "cell_type": "markdown",
   "metadata": {},
   "source": [
    "### Importing and Preprocessing the Data ###"
   ]
  },
  {
   "cell_type": "code",
   "execution_count": 4,
   "metadata": {},
   "outputs": [],
   "source": [
    "import pandas as pd\n",
    "\n",
    "#Training features\n",
    "X_train = pd.read_csv(\n",
    "    \"training_set_features.csv\"\n",
    ")\n",
    "#Testing features\n",
    "X_test = pd.read_csv(\n",
    "    \"test_set_features.csv\"\n",
    ")\n",
    "#Training labels\n",
    "y_train = pd.read_csv(\n",
    "    \"training_set_labels.csv\"\n",
    ")\n",
    "#Submission format\n",
    "submission_format = pd.read_csv(\n",
    "    \"submission_format.csv\"\n",
    ")"
   ]
  },
  {
   "cell_type": "code",
   "execution_count": 5,
   "metadata": {},
   "outputs": [],
   "source": [
    "preprocessed_X_train = data_preprocessing(X_train)\n",
    "preprocessed_X_test = data_preprocessing(X_test)"
   ]
  },
  {
   "cell_type": "code",
   "execution_count": 6,
   "metadata": {},
   "outputs": [],
   "source": [
    "### XGBoost Regression ###"
   ]
  },
  {
   "cell_type": "code",
   "execution_count": 16,
   "metadata": {},
   "outputs": [],
   "source": [
    "import xgboost as xgb\n",
    "from xgboost import XGBRegressor\n",
    "model = XGBRegressor(\n",
    "    max_depth = 3,\n",
    "    eta = 0.01\n",
    ")"
   ]
  },
  {
   "cell_type": "code",
   "execution_count": 17,
   "metadata": {},
   "outputs": [
    {
     "data": {
      "text/plain": [
       "XGBRegressor(base_score=0.5, booster='gbtree', colsample_bylevel=1,\n",
       "             colsample_bynode=1, colsample_bytree=1, eta=0.01, gamma=0,\n",
       "             gpu_id=-1, importance_type='gain', interaction_constraints='',\n",
       "             learning_rate=0.00999999978, max_delta_step=0, max_depth=3,\n",
       "             min_child_weight=1, missing=nan, monotone_constraints='()',\n",
       "             n_estimators=100, n_jobs=4, num_parallel_tree=1, random_state=0,\n",
       "             reg_alpha=0, reg_lambda=1, scale_pos_weight=1, subsample=1,\n",
       "             tree_method='exact', validate_parameters=1, verbosity=None)"
      ]
     },
     "execution_count": 17,
     "metadata": {},
     "output_type": "execute_result"
    }
   ],
   "source": [
    "model.fit(preprocessed_X_train, y_train[['h1n1_vaccine']])"
   ]
  },
  {
   "cell_type": "code",
   "execution_count": 18,
   "metadata": {},
   "outputs": [],
   "source": [
    "h1n1_pred = model.predict(preprocessed_X_test)"
   ]
  },
  {
   "cell_type": "code",
   "execution_count": 19,
   "metadata": {},
   "outputs": [],
   "source": [
    "submission_format[\"h1n1_vaccine\"] = h1n1_pred"
   ]
  },
  {
   "cell_type": "code",
   "execution_count": 20,
   "metadata": {},
   "outputs": [
    {
     "data": {
      "text/plain": [
       "XGBRegressor(base_score=0.5, booster='gbtree', colsample_bylevel=1,\n",
       "             colsample_bynode=1, colsample_bytree=1, eta=0.01, gamma=0,\n",
       "             gpu_id=-1, importance_type='gain', interaction_constraints='',\n",
       "             learning_rate=0.00999999978, max_delta_step=0, max_depth=3,\n",
       "             min_child_weight=1, missing=nan, monotone_constraints='()',\n",
       "             n_estimators=100, n_jobs=4, num_parallel_tree=1, random_state=0,\n",
       "             reg_alpha=0, reg_lambda=1, scale_pos_weight=1, subsample=1,\n",
       "             tree_method='exact', validate_parameters=1, verbosity=None)"
      ]
     },
     "execution_count": 20,
     "metadata": {},
     "output_type": "execute_result"
    }
   ],
   "source": [
    "model.fit(preprocessed_X_train, y_train[['seasonal_vaccine']])"
   ]
  },
  {
   "cell_type": "code",
   "execution_count": 21,
   "metadata": {},
   "outputs": [],
   "source": [
    "seas_pred = model.predict(preprocessed_X_test)"
   ]
  },
  {
   "cell_type": "code",
   "execution_count": 22,
   "metadata": {},
   "outputs": [],
   "source": [
    "submission_format[\"seasonal_vaccine\"] = seas_pred"
   ]
  },
  {
   "cell_type": "markdown",
   "metadata": {},
   "source": [
    "### Final Submission ###"
   ]
  },
  {
   "cell_type": "code",
   "execution_count": 23,
   "metadata": {},
   "outputs": [
    {
     "data": {
      "text/html": [
       "<div>\n",
       "<style scoped>\n",
       "    .dataframe tbody tr th:only-of-type {\n",
       "        vertical-align: middle;\n",
       "    }\n",
       "\n",
       "    .dataframe tbody tr th {\n",
       "        vertical-align: top;\n",
       "    }\n",
       "\n",
       "    .dataframe thead th {\n",
       "        text-align: right;\n",
       "    }\n",
       "</style>\n",
       "<table border=\"1\" class=\"dataframe\">\n",
       "  <thead>\n",
       "    <tr style=\"text-align: right;\">\n",
       "      <th></th>\n",
       "      <th>h1n1_vaccine</th>\n",
       "      <th>seasonal_vaccine</th>\n",
       "    </tr>\n",
       "    <tr>\n",
       "      <th>respondent_id</th>\n",
       "      <th></th>\n",
       "      <th></th>\n",
       "    </tr>\n",
       "  </thead>\n",
       "  <tbody>\n",
       "    <tr>\n",
       "      <th>26707</th>\n",
       "      <td>0.346285</td>\n",
       "      <td>0.384336</td>\n",
       "    </tr>\n",
       "    <tr>\n",
       "      <th>26708</th>\n",
       "      <td>0.213432</td>\n",
       "      <td>0.270644</td>\n",
       "    </tr>\n",
       "    <tr>\n",
       "      <th>26709</th>\n",
       "      <td>0.282761</td>\n",
       "      <td>0.632378</td>\n",
       "    </tr>\n",
       "    <tr>\n",
       "      <th>26710</th>\n",
       "      <td>0.510047</td>\n",
       "      <td>0.669115</td>\n",
       "    </tr>\n",
       "    <tr>\n",
       "      <th>26711</th>\n",
       "      <td>0.398622</td>\n",
       "      <td>0.445957</td>\n",
       "    </tr>\n",
       "    <tr>\n",
       "      <th>...</th>\n",
       "      <td>...</td>\n",
       "      <td>...</td>\n",
       "    </tr>\n",
       "    <tr>\n",
       "      <th>53410</th>\n",
       "      <td>0.382347</td>\n",
       "      <td>0.520957</td>\n",
       "    </tr>\n",
       "    <tr>\n",
       "      <th>53411</th>\n",
       "      <td>0.245475</td>\n",
       "      <td>0.403277</td>\n",
       "    </tr>\n",
       "    <tr>\n",
       "      <th>53412</th>\n",
       "      <td>0.245773</td>\n",
       "      <td>0.413633</td>\n",
       "    </tr>\n",
       "    <tr>\n",
       "      <th>53413</th>\n",
       "      <td>0.213948</td>\n",
       "      <td>0.458274</td>\n",
       "    </tr>\n",
       "    <tr>\n",
       "      <th>53414</th>\n",
       "      <td>0.629594</td>\n",
       "      <td>0.626390</td>\n",
       "    </tr>\n",
       "  </tbody>\n",
       "</table>\n",
       "<p>26708 rows × 2 columns</p>\n",
       "</div>"
      ],
      "text/plain": [
       "               h1n1_vaccine  seasonal_vaccine\n",
       "respondent_id                                \n",
       "26707              0.346285          0.384336\n",
       "26708              0.213432          0.270644\n",
       "26709              0.282761          0.632378\n",
       "26710              0.510047          0.669115\n",
       "26711              0.398622          0.445957\n",
       "...                     ...               ...\n",
       "53410              0.382347          0.520957\n",
       "53411              0.245475          0.403277\n",
       "53412              0.245773          0.413633\n",
       "53413              0.213948          0.458274\n",
       "53414              0.629594          0.626390\n",
       "\n",
       "[26708 rows x 2 columns]"
      ]
     },
     "execution_count": 23,
     "metadata": {},
     "output_type": "execute_result"
    }
   ],
   "source": [
    "final_submission = submission_format.set_index('respondent_id')\n",
    "final_submission"
   ]
  },
  {
   "cell_type": "code",
   "execution_count": 24,
   "metadata": {},
   "outputs": [],
   "source": [
    "final_submission.to_csv('Final_submission.csv', index=True)"
   ]
  },
  {
   "cell_type": "code",
   "execution_count": null,
   "metadata": {},
   "outputs": [],
   "source": []
  }
 ],
 "metadata": {
  "kernelspec": {
   "display_name": "Python 3",
   "language": "python",
   "name": "python3"
  },
  "language_info": {
   "codemirror_mode": {
    "name": "ipython",
    "version": 3
   },
   "file_extension": ".py",
   "mimetype": "text/x-python",
   "name": "python",
   "nbconvert_exporter": "python",
   "pygments_lexer": "ipython3",
   "version": "3.8.7"
  }
 },
 "nbformat": 4,
 "nbformat_minor": 4
}
