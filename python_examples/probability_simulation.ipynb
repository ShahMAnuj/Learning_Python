{
 "cells": [
  {
   "cell_type": "markdown",
   "metadata": {},
   "source": [
    "The `coin_toss()` function generates a vector `X`, whose each entry represents the outcome of a coin flip:\n",
    "- `0` represents heads\n",
    "- `1` represents tails\n",
    "\n",
    "This function only takes one input:\n",
    "- `M` (number of trials)"
   ]
  },
  {
   "cell_type": "code",
   "execution_count": 1,
   "metadata": {},
   "outputs": [],
   "source": [
    "import random\n",
    "import numpy as np\n",
    "\n",
    "def coin_toss(M):\n",
    "    X = np.zeros(M)\n",
    "    for i in range(1,M):\n",
    "        u=random.randint(0,1)\n",
    "        if u <= 0.5:\n",
    "            X[i]=0\n",
    "        else:\n",
    "            X[i]=1\n",
    "    return X       "
   ]
  },
  {
   "cell_type": "markdown",
   "metadata": {},
   "source": [
    "The `dice_roll()` function generates a vector `X`, whose each entry represents the outcome of a dice roll:\n",
    "- `1`, `2`, `3`, `4`, `5`, `6`\n",
    "\n",
    "This function only takes one input:\n",
    "- `M` (number of trials)"
   ]
  },
  {
   "cell_type": "code",
   "execution_count": 2,
   "metadata": {},
   "outputs": [],
   "source": [
    "def dice_roll(M):\n",
    "    X = np.zeros(M)\n",
    "    for i in range(1,M):\n",
    "        u=random.randint(0,1)\n",
    "        if u <= 1/6:\n",
    "            X[i]=1\n",
    "        elif (u > 1/6) and (u <= 2/6):\n",
    "            X[i]=2\n",
    "        elif (u > 2/6) and (u <= 3/6):\n",
    "            X[i]=3\n",
    "        elif (u > 3/6) and (u <= 4/6):\n",
    "            X[i]=4\n",
    "        elif (u > 4/6) and (u <= 5/6):\n",
    "            X[i]=5\n",
    "        else:\n",
    "            X[i]=6\n",
    "    return X        "
   ]
  },
  {
   "cell_type": "markdown",
   "metadata": {},
   "source": [
    "The code below first generates two vectors `X1` and `X2`. Each entry of the vectors `X1` and `X2` represents the outcome of a coin flip:\n",
    "\n",
    "- `0` represents tails\n",
    "- `1` represents heads\n",
    "\n",
    "Then, we multiply the entries of `X1` and `X2`, entry-by-entry, to get another vector `Y`. We then plot a relative-frequency histogram of the vector `Y`.\n",
    "\n",
    "According to the Law of Large Numbers, if the number of trials (`M`) which you enter is large enough, then the relative frequency of an outcome will be a good estimate for the probability of that outcome!"
   ]
  },
  {
   "cell_type": "code",
   "execution_count": 5,
   "metadata": {},
   "outputs": [
    {
     "name": "stdin",
     "output_type": "stream",
     "text": [
      "Enter number of trials: 1000\n"
     ]
    },
    {
     "data": {
      "text/plain": [
       "(array([734.,   0.,   0.,   0.,   0.,   0.,   0.,   0.,   0., 266.]),\n",
       " array([0. , 0.1, 0.2, 0.3, 0.4, 0.5, 0.6, 0.7, 0.8, 0.9, 1. ]),\n",
       " <BarContainer object of 10 artists>)"
      ]
     },
     "execution_count": 5,
     "metadata": {},
     "output_type": "execute_result"
    },
    {
     "data": {
      "image/png": "[encoded data removed]",
      "text/plain": [
       "<Figure size 432x288 with 1 Axes>"
      ]
     },
     "metadata": {
      "needs_background": "light"
     },
     "output_type": "display_data"
    }
   ],
   "source": [
    "M = int(input('Enter number of trials:'))\n",
    "\n",
    "X_coin_1 = coin_toss(M)\n",
    "X_coin_2 = coin_toss(M)\n",
    "Y_coin = X_coin_1 * X_coin_2\n",
    "\n",
    "import matplotlib.pyplot as plt\n",
    "plt.hist(Y_coin)"
   ]
  },
  {
   "cell_type": "markdown",
   "metadata": {},
   "source": [
    "The code below first generates two vectors `X1` and `X2`. Each entry of the vectors `X1` and `X2` represents the outcome of a dice roll:\n",
    "\n",
    "- `1`, `2`, `3`, `4`, `5`, `6`\n",
    "\n",
    "Then, we add the entries of `X1` and `X2`, entry-by-entry, to get another vector `Y`. We then plot a relative-frequency histogram of the vector `Y`.\n",
    "\n",
    "According to the Law of Large Numbers, if the number of trials (`M`) which you enter is large enough, then the relative frequency of an outcome will be a good estimate for the probability of that outcome!"
   ]
  },
  {
   "cell_type": "code",
   "execution_count": 7,
   "metadata": {},
   "outputs": [
    {
     "name": "stdin",
     "output_type": "stream",
     "text": [
      "Enter number of trials: 1000\n"
     ]
    },
    {
     "data": {
      "text/plain": [
       "(array([  1., 231.,   0.,   0.,   0., 531.,   0.,   0.,   0., 237.]),\n",
       " array([ 0. ,  1.2,  2.4,  3.6,  4.8,  6. ,  7.2,  8.4,  9.6, 10.8, 12. ]),\n",
       " <BarContainer object of 10 artists>)"
      ]
     },
     "execution_count": 7,
     "metadata": {},
     "output_type": "execute_result"
    },
    {
     "data": {
      "image/png": "[encoded data removed]",
      "text/plain": [
       "<Figure size 432x288 with 1 Axes>"
      ]
     },
     "metadata": {
      "needs_background": "light"
     },
     "output_type": "display_data"
    }
   ],
   "source": [
    "M = int(input('Enter number of trials:'))\n",
    "\n",
    "X_dice_1 = dice_roll(M)\n",
    "X_dice_2 = dice_roll(M)\n",
    "Y_dice = X_dice_1 + X_dice_2\n",
    "\n",
    "import matplotlib.pyplot as plt\n",
    "plt.hist(Y_dice)"
   ]
  }
 ],
 "metadata": {
  "kernelspec": {
   "display_name": "Python 3",
   "language": "python",
   "name": "python3"
  },
  "language_info": {
   "codemirror_mode": {
    "name": "ipython",
    "version": 3
   },
   "file_extension": ".py",
   "mimetype": "text/x-python",
   "name": "python",
   "nbconvert_exporter": "python",
   "pygments_lexer": "ipython3",
   "version": "3.8.7"
  }
 },
 "nbformat": 4,
 "nbformat_minor": 4
}
